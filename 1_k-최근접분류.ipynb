{
 "cells": [
  {
   "cell_type": "markdown",
   "id": "8ec54e51",
   "metadata": {},
   "source": [
    "# k-최근접 이웃 알고리즘 (k-nearest neighbors)"
   ]
  },
  {
   "cell_type": "code",
   "execution_count": 1,
   "id": "ed6ffd7d",
   "metadata": {},
   "outputs": [],
   "source": [
    "import numpy as np\n",
    "import pandas as pd\n",
    "import matplotlib.pyplot as plt\n",
    "# import inspect"
   ]
  },
  {
   "cell_type": "code",
   "execution_count": 25,
   "id": "7bbcb754",
   "metadata": {},
   "outputs": [],
   "source": [
    "from matplotlib import rc, font_manager\n",
    "import matplotlib.pyplot as plt\n",
    "# import inspect\n",
    "# print(inspect.getfile(font_manager))\n",
    "# print(inspect.getfile(plt))\n",
    "\n",
    "# path = 'C:/Windows/Fonts/malgun.ttf'\n",
    "# font_name = font_manager.FontProperties(fname = path).get_name()\n",
    "# rc('font', family = font_name)\n",
    "# 한글폰트 지정 in matplot\n",
    "plt.rc('font', family='NanumGothic')\n",
    "\n",
    "import matplotlib as mpl\n",
    "mpl.rcParams['axes.unicode_minus'] = False"
   ]
  },
  {
   "cell_type": "markdown",
   "id": "ea186390",
   "metadata": {},
   "source": [
    "### 도미자료와 방어자료 불러오기"
   ]
  },
  {
   "cell_type": "code",
   "execution_count": 8,
   "id": "e40c4685",
   "metadata": {},
   "outputs": [],
   "source": [
    "# 도미자료\n",
    "bream_length = [25.4, 26.3, 26.5, 29.0, 29.0, 29.7, 29.7, 30.0, 30.0, 30.7, 31.0, 31.0, 31.5, 32.0, 32.0, 32.0, 33.0, 33.0, 33.5, 33.5, 34.0, 34.0, 34.5, 35.0, 35.0, 35.0, 35.0, 36.0, 36.0, 37.0, 38.5, 38.5, 39.5, 41.0, 41.0]\n",
    "bream_weight = [242.0, 290.0, 340.0, 363.0, 430.0, 450.0, 500.0, 390.0, 450.0, 500.0, 475.0, 500.0, 500.0, 340.0, 600.0, 600.0, 700.0, 700.0, 610.0, 650.0, 575.0, 685.0, 620.0, 680.0, 700.0, 725.0, 720.0, 714.0, 850.0, 1000.0, 920.0, 955.0, 925.0, 975.0, 950.0]\n",
    "\n",
    "# 방어자료\n",
    "smelt_length = [9.8, 10.5, 10.6, 11.0, 11.2, 11.3, 11.8, 11.8, 12.0, 12.2, 12.4, 13.0, 14.3, 15.0]\n",
    "smelt_weight = [6.7, 7.5, 7.0, 9.7, 9.8, 8.7, 10.0, 9.9, 9.8, 12.2, 13.4, 12.2, 19.7, 19.9]\n"
   ]
  },
  {
   "cell_type": "markdown",
   "id": "7f107f97",
   "metadata": {},
   "source": [
    "### 요약 통계량"
   ]
  },
  {
   "cell_type": "code",
   "execution_count": 12,
   "id": "99ab3cac",
   "metadata": {},
   "outputs": [
    {
     "name": "stdout",
     "output_type": "stream",
     "text": [
      "도미길이 평균 =  33.11\n",
      "방어길이 평균=  11.92\n",
      "\n",
      "도미무게 평균=  617.83\n",
      "방어무게 평균=  11.18\n"
     ]
    }
   ],
   "source": [
    "# 요약 통계량\n",
    "print(\"도미길이 평균 = \", round(np.mean(bream_length), ndigits = 2))\n",
    "print(\"방어길이 평균= \", round(np.mean(smelt_length), ndigits = 2))\n",
    "print()\n",
    "print(\"도미무게 평균= \", round(np.mean(bream_weight), ndigits = 2))\n",
    "print(\"방어무게 평균= \", round(np.mean(bream_weight), ndigits = 2))"
   ]
  },
  {
   "cell_type": "code",
   "execution_count": 23,
   "id": "d18b841f",
   "metadata": {},
   "outputs": [
    {
     "data": {
      "image/png": "[encoded data removed]",
      "text/plain": [
       "<Figure size 432x288 with 1 Axes>"
      ]
     },
     "metadata": {
      "needs_background": "light"
     },
     "output_type": "display_data"
    },
    {
     "data": {
      "image/png": "[encoded data removed]",
      "text/plain": [
       "<Figure size 432x288 with 1 Axes>"
      ]
     },
     "metadata": {
      "needs_background": "light"
     },
     "output_type": "display_data"
    }
   ],
   "source": [
    "plt.bar([1, 2], [np.mean(bream_length), np.mean(smelt_length)])\n",
    "plt.title('생선의 길이')\n",
    "plt.xticks([1, 2], labels=['도미', '방어'])\n",
    "plt.show()\n",
    "\n",
    "plt.bar([1, 2], [np.mean(bream_weight), np.mean(smelt_length)], color = 'C2')\n",
    "plt.title('생선의 무게')\n",
    "plt.xticks([1, 2], labels=['도미', '방어'])\n",
    "plt.show()"
   ]
  },
  {
   "cell_type": "markdown",
   "id": "c8a93cd5",
   "metadata": {},
   "source": [
    "### 산점도 그리기"
   ]
  },
  {
   "cell_type": "code",
   "execution_count": 26,
   "id": "65dfd98c",
   "metadata": {},
   "outputs": [
    {
     "data": {
      "image/png": "[encoded data removed]",
      "text/plain": [
       "<Figure size 432x288 with 1 Axes>"
      ]
     },
     "metadata": {
      "needs_background": "light"
     },
     "output_type": "display_data"
    }
   ],
   "source": [
    "plt.scatter(bream_length, bream_weight)\n",
    "plt.scatter(smelt_length, smelt_weight, c = \"r\")\n",
    "plt.xlabel('length')\n",
    "plt.ylabel('weight')\n",
    "plt.title(\"도미 vs 방어\")\n",
    "plt.show() # plot all open figures"
   ]
  },
  {
   "cell_type": "markdown",
   "id": "c51f352d",
   "metadata": {},
   "source": [
    "### list 자료를 sklearn 입력 형식에 맞게 수정"
   ]
  },
  {
   "cell_type": "code",
   "execution_count": 29,
   "id": "bfd1fc3f",
   "metadata": {},
   "outputs": [],
   "source": [
    "## Add two list \n",
    "length = bream_length + smelt_length\n",
    "weight = bream_weight + smelt_weight"
   ]
  },
  {
   "cell_type": "code",
   "execution_count": 31,
   "id": "4dfb50b1",
   "metadata": {},
   "outputs": [
    {
     "name": "stdout",
     "output_type": "stream",
     "text": [
      "[[ 25.4 242. ]\n",
      " [ 26.3 290. ]\n",
      " [ 26.5 340. ]\n",
      " [ 29.  363. ]\n",
      " [ 29.  430. ]\n",
      " [ 29.7 450. ]\n",
      " [ 29.7 500. ]\n",
      " [ 30.  390. ]\n",
      " [ 30.  450. ]\n",
      " [ 30.7 500. ]]\n",
      "[1. 1. 1. 1. 1. 1. 1. 1. 1. 1. 1. 1. 1. 1. 1. 1. 1. 1. 1. 1. 1. 1. 1. 1.\n",
      " 1. 1. 1. 1. 1. 1. 1. 1. 1. 1. 1. 0. 0. 0. 0. 0. 0. 0. 0. 0. 0. 0. 0. 0.\n",
      " 0.]\n"
     ]
    }
   ],
   "source": [
    "## zip function을 이용해서 1차원 list 자료를 2차원 list 자료로 변환 \n",
    "# fish_data_0 = [[l, w] for l, w in zip(length, weight)]\n",
    "# fish_target_0 = [1]*35 + [0]*14\n",
    "\n",
    "## column stack\n",
    "fish_data = np.column_stack((length, weight))\n",
    "print(fish_data[:10,])\n",
    "\n",
    "## using np.append\n",
    "fish_target = np.append(np.ones(35), np.zeros(14))\n",
    "print(fish_target)"
   ]
  },
  {
   "cell_type": "markdown",
   "id": "1b0ea4e8",
   "metadata": {},
   "source": [
    "### Training set과 Test set 나누기"
   ]
  },
  {
   "cell_type": "code",
   "execution_count": 37,
   "id": "82ddc7e7",
   "metadata": {},
   "outputs": [],
   "source": [
    "from sklearn.model_selection import train_test_split\n",
    "# inspect.getfile(train_test_split)\n",
    "# default test_size = 0.25\n",
    "train_input, test_input, train_target, test_target = train_test_split(\n",
    "    fish_data, fish_target, stratify=fish_target, test_size = 0.3)"
   ]
  },
  {
   "cell_type": "markdown",
   "id": "deec3a9f",
   "metadata": {},
   "source": [
    "### z 표준화 하기"
   ]
  },
  {
   "cell_type": "code",
   "execution_count": 39,
   "id": "82ab3e77",
   "metadata": {},
   "outputs": [
    {
     "name": "stdout",
     "output_type": "stream",
     "text": [
      "평균은 =232.76764705882354, 표준편차 = 314.462751671134\n"
     ]
    }
   ],
   "source": [
    "mean = np.mean(train_input)\n",
    "std = np.std(train_input)\n",
    "print('평균은 ={0}, 표준편차 = {1}'.format(mean, std))\n",
    "\n",
    "train_scaled = (train_input - mean)/std\n",
    "test_scaled = (test_input - mean) / std"
   ]
  },
  {
   "cell_type": "code",
   "execution_count": 41,
   "id": "18f1bebe",
   "metadata": {},
   "outputs": [
    {
     "data": {
      "image/png": "[encoded data removed]",
      "text/plain": [
       "<Figure size 432x288 with 1 Axes>"
      ]
     },
     "metadata": {
      "needs_background": "light"
     },
     "output_type": "display_data"
    }
   ],
   "source": [
    "plt.scatter(train_scaled[:, 0], train_scaled[:, 1])\n",
    "plt.scatter(test_scaled[:, 0], test_scaled[:, 1], c = \"r\")\n",
    "plt.xlabel('length')\n",
    "plt.ylabel('weight')\n",
    "plt.title(\"도미 vs 방어\")\n",
    "plt.show() # plot all open figures"
   ]
  },
  {
   "cell_type": "markdown",
   "id": "e5580395",
   "metadata": {},
   "source": [
    "### KNN 분석을 위한 ML module import"
   ]
  },
  {
   "cell_type": "code",
   "execution_count": 42,
   "id": "c7440294",
   "metadata": {},
   "outputs": [],
   "source": [
    "from sklearn.neighbors import KNeighborsClassifier"
   ]
  },
  {
   "cell_type": "markdown",
   "id": "4f076731",
   "metadata": {},
   "source": [
    "### knn 객체 생성"
   ]
  },
  {
   "cell_type": "code",
   "execution_count": 43,
   "id": "6d7394bd",
   "metadata": {},
   "outputs": [],
   "source": [
    "# 클래스 객체 만들기/ learning parameter setting\n",
    "# n_neighbors : int, default=5\n",
    "kn = KNeighborsClassifier(n_neighbors = 5)"
   ]
  },
  {
   "cell_type": "markdown",
   "id": "cf9bc418",
   "metadata": {},
   "source": [
    "### knn 모델 훈련"
   ]
  },
  {
   "cell_type": "code",
   "execution_count": 44,
   "id": "42e36c94",
   "metadata": {},
   "outputs": [
    {
     "data": {
      "text/plain": [
       "1.0"
      ]
     },
     "execution_count": 44,
     "metadata": {},
     "output_type": "execute_result"
    }
   ],
   "source": [
    "# ML learning\n",
    "kn.fit(train_scaled, train_target)"
   ]
  },
  {
   "cell_type": "code",
   "execution_count": 47,
   "id": "e488da5c",
   "metadata": {},
   "outputs": [
    {
     "name": "stdout",
     "output_type": "stream",
     "text": [
      "train 정확도 = \n",
      " 1.0\n",
      "test 정확도 = \n",
      " 1.0\n"
     ]
    }
   ],
   "source": [
    "# sklearn classification mean accuracy\n",
    "print('train 정확도 = \\n', kn.score(train_scaled, train_target))\n",
    "print('test 정확도 = \\n',kn.score(test_scaled, test_target))"
   ]
  },
  {
   "cell_type": "markdown",
   "id": "de697841",
   "metadata": {},
   "source": [
    "### knn 예측"
   ]
  },
  {
   "cell_type": "code",
   "execution_count": 55,
   "id": "353039f2",
   "metadata": {},
   "outputs": [
    {
     "data": {
      "image/png": "[encoded data removed]",
      "text/plain": [
       "<Figure size 432x288 with 1 Axes>"
      ]
     },
     "metadata": {
      "needs_background": "light"
     },
     "output_type": "display_data"
    }
   ],
   "source": [
    "# Finds the K-neighbors of a point.\n",
    "\n",
    "plt.scatter(train_input[:,0], train_input[:,1])\n",
    "plt.scatter(25, 150, marker =\"^\", c = \"r\", s = 100)\n",
    "\n",
    "plt.xlabel('length')\n",
    "plt.ylabel('weight')\n",
    "plt.show()"
   ]
  },
  {
   "cell_type": "markdown",
   "id": "0466d0ef",
   "metadata": {},
   "source": [
    "### Finds the K-neighbors of a point"
   ]
  },
  {
   "cell_type": "code",
   "execution_count": 63,
   "id": "abdb29c3",
   "metadata": {},
   "outputs": [
    {
     "data": {
      "image/png": "[encoded data removed]",
      "text/plain": [
       "<Figure size 432x288 with 1 Axes>"
      ]
     },
     "metadata": {
      "needs_background": "light"
     },
     "output_type": "display_data"
    }
   ],
   "source": [
    "# Finds the K-neighbors of a point.\n",
    "\n",
    "new = ([25, 250] - mean)/std\n",
    "distance, index = kn.kneighbors([new])\n",
    "\n",
    "\n",
    "plt.scatter(train_scaled[:,0], train_scaled[:,1])\n",
    "plt.scatter(new[0], new[1], marker =\"^\", c = \"r\", s = 100)\n",
    "plt.scatter(train_scaled[index, 0], train_scaled[index, 1],\n",
    "            marker = \"D\", c = \"g\")\n",
    "\n",
    "plt.xlabel('length')\n",
    "plt.ylabel('weight')\n",
    "plt.show()"
   ]
  },
  {
   "cell_type": "code",
   "execution_count": null,
   "id": "d76409c6",
   "metadata": {},
   "outputs": [],
   "source": []
  }
 ],
 "metadata": {
  "kernelspec": {
   "display_name": "Python 3",
   "language": "python",
   "name": "python3"
  },
  "language_info": {
   "codemirror_mode": {
    "name": "ipython",
    "version": 3
   },
   "file_extension": ".py",
   "mimetype": "text/x-python",
   "name": "python",
   "nbconvert_exporter": "python",
   "pygments_lexer": "ipython3",
   "version": "3.9.5"
  }
 },
 "nbformat": 4,
 "nbformat_minor": 5
}
